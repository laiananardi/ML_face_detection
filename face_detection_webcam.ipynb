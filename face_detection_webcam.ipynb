{
  "cells": [
    {
      "cell_type": "code",
      "execution_count": 22,
      "metadata": {
        "id": "K2cTAWUXAwtx"
      },
      "outputs": [],
      "source": [
        "import cv2  \n",
        "import matplotlib.pyplot as plt   \n"
      ]
    },
    {
      "cell_type": "code",
      "execution_count": 23,
      "metadata": {
        "colab": {
          "base_uri": "https://localhost:8080/"
        },
        "id": "1QL34KhfBeGI",
        "outputId": "6f6a3424-8a8d-4bda-91b2-e4c20bdafb2b"
      },
      "outputs": [],
      "source": [
        "# Path to xml file containing HaaR cascade training https://github.com/opencv/opencv/tree/master/data/haarcascades\n",
        "frontalface = 'haarcascade_frontalface_default.xml'\n",
        "eye = 'haarcascade_eye.xml'\n",
        "\n",
        "#Performs the classification     \n",
        "# It is this classifier that finds the portion of the image that corresponds to the faces\n",
        "face_detection = cv2.CascadeClassifier(frontalface) \n",
        "eye_detection = cv2.CascadeClassifier(eye)\n",
        "\n",
        "#capture the webcam’s video feed\n",
        "video = cv2.VideoCapture(0)\n",
        "\n"
      ]
    },
    {
      "cell_type": "code",
      "execution_count": 24,
      "metadata": {},
      "outputs": [],
      "source": [
        " \n",
        "while True: \n",
        "\n",
        "  #Extracting the frame from the video feed \n",
        "  check, frame = video.read()\n",
        "  \n",
        "  # looking for frame coordinates  \n",
        "  faces = face_detection.detectMultiScale(frame, scaleFactor = 1.05, minNeighbors=5) #  \n",
        "\n",
        "  #identifies the photo coordinates and draws the ellipse \n",
        "  for x,y,w,h in faces:         \n",
        "    #face        \n",
        "    center = (x + w//2, y + h//2)\n",
        "    frame = cv2.ellipse(frame, center, (w//2, h//2), 0, 0, 360, (255, 0, 255), 4) #desenha o retângulo ao redor da imagem \n",
        "\n",
        "    #eyes\n",
        "   \n",
        "    roi_color = frame[y:y+h, x:x+w]\n",
        "    eyes = eye_detection.detectMultiScale(roi_color)\n",
        "    for (ex,ey,ew,eh) in eyes:\n",
        "      center_e = (ex + ew//2, ey + eh//2)\n",
        "      cv2.ellipse(roi_color, center_e, (ew//2, eh//2), 0, 0, 360, (0, 0, 255), 4)\n",
        "      # cv2.rectangle(roi_color,(ex,ey),(ex+ew,ey+eh),(0,255,0),2)\n",
        "  cv2.imshow('Face Detector', frame)\n",
        "\n",
        "  key = cv2.waitKey(1)\n",
        "\n",
        "  if key == ord('q'):\n",
        "      break\n",
        "\n",
        "video.release()\n",
        "cv2.destroyAllWindows()\n"
      ]
    }
  ],
  "metadata": {
    "colab": {
      "name": "face_detection_image.ipynb",
      "provenance": []
    },
    "kernelspec": {
      "display_name": "Python 3",
      "name": "python3"
    },
    "language_info": {
      "codemirror_mode": {
        "name": "ipython",
        "version": 3
      },
      "file_extension": ".py",
      "mimetype": "text/x-python",
      "name": "python",
      "nbconvert_exporter": "python",
      "pygments_lexer": "ipython3",
      "version": "3.9.6"
    }
  },
  "nbformat": 4,
  "nbformat_minor": 0
}
